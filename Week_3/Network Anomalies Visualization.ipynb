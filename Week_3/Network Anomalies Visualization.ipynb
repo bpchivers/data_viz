{
 "cells": [
  {
   "cell_type": "code",
   "execution_count": 1,
   "metadata": {
    "ExecuteTime": {
     "end_time": "2019-04-04T21:14:46.648983Z",
     "start_time": "2019-04-04T21:14:44.060994Z"
    }
   },
   "outputs": [],
   "source": [
    "import pandas as pd\n",
    "from matplotlib import pyplot as plt\n",
    "import numpy as np"
   ]
  },
  {
   "cell_type": "code",
   "execution_count": 2,
   "metadata": {
    "ExecuteTime": {
     "end_time": "2019-04-04T21:14:46.691429Z",
     "start_time": "2019-04-04T21:14:46.651500Z"
    }
   },
   "outputs": [],
   "source": [
    "df = pd.read_csv('computer_security.csv')\n",
    "df['date']=pd.to_datetime(df['date'])"
   ]
  },
  {
   "cell_type": "code",
   "execution_count": 3,
   "metadata": {
    "ExecuteTime": {
     "end_time": "2019-04-04T21:14:46.755045Z",
     "start_time": "2019-04-04T21:14:46.696448Z"
    }
   },
   "outputs": [
    {
     "data": {
      "text/plain": [
       "13462    15\n",
       "3561     14\n",
       "9318      5\n",
       "13749     4\n",
       "5617      3\n",
       "9316      3\n",
       "1239      3\n",
       "9370      2\n",
       "33070     2\n",
       "4837      2\n",
       "14501     2\n",
       "2697      2\n",
       "4766      1\n",
       "2514      1\n",
       "32613     1\n",
       "17964     1\n",
       "4513      1\n",
       "8151      1\n",
       "22653     1\n",
       "24989     1\n",
       "156       1\n",
       "29339     1\n",
       "31252     1\n",
       "7314      1\n",
       "4725      1\n",
       "12173     1\n",
       "33287     1\n",
       "32666     1\n",
       "3267      1\n",
       "9371      1\n",
       "15802     1\n",
       "225       1\n",
       "20853     1\n",
       "8560      1\n",
       "31983     1\n",
       "24940     1\n",
       "10439     1\n",
       "7015      1\n",
       "19169     1\n",
       "7132      1\n",
       "3671      1\n",
       "8402      1\n",
       "6478      1\n",
       "4812      1\n",
       "7497      1\n",
       "19548     1\n",
       "9924      1\n",
       "701       1\n",
       "3462      1\n",
       "Name: r_asn, dtype: int64"
      ]
     },
     "execution_count": 3,
     "metadata": {},
     "output_type": "execute_result"
    }
   ],
   "source": [
    "ip_0 = df[df['l_ipn']==0]\n",
    "max_f_0 = ip_0[['date','f']].groupby(['date'],as_index=False).max()\n",
    "max_asn_0 = max_f_0.merge(ip_0[['date','r_asn','f']],how='inner',on=['date','f'])['r_asn'].value_counts()\n",
    "\n",
    "max_asn_0"
   ]
  },
  {
   "cell_type": "code",
   "execution_count": 4,
   "metadata": {
    "ExecuteTime": {
     "end_time": "2019-04-04T21:14:46.782875Z",
     "start_time": "2019-04-04T21:14:46.757011Z"
    }
   },
   "outputs": [
    {
     "data": {
      "text/plain": [
       "3265     47\n",
       "33438     3\n",
       "24940     1\n",
       "3307      1\n",
       "3561      1\n",
       "4837      1\n",
       "4766      1\n",
       "35017     1\n",
       "Name: r_asn, dtype: int64"
      ]
     },
     "execution_count": 4,
     "metadata": {},
     "output_type": "execute_result"
    }
   ],
   "source": [
    "ip_1 = df[df['l_ipn']==1]\n",
    "max_f_1 = ip_1[['date','f']].groupby(['date'],as_index=False).max()\n",
    "max_asn_1 = max_f_1.merge(ip_1[['date','r_asn','f']],how='inner',on=['date','f'])['r_asn'].value_counts()\n",
    "\n",
    "max_asn_1"
   ]
  },
  {
   "cell_type": "code",
   "execution_count": 5,
   "metadata": {
    "ExecuteTime": {
     "end_time": "2019-04-04T21:14:46.813799Z",
     "start_time": "2019-04-04T21:14:46.785954Z"
    }
   },
   "outputs": [
    {
     "data": {
      "text/plain": [
       "19918    17\n",
       "7018     13\n",
       "33650    10\n",
       "1239      5\n",
       "5650      4\n",
       "1312      3\n",
       "9316      3\n",
       "14265     2\n",
       "33070     2\n",
       "13749     2\n",
       "15802     2\n",
       "3462      2\n",
       "19548     1\n",
       "679       1\n",
       "12173     1\n",
       "31983     1\n",
       "31252     1\n",
       "25369     1\n",
       "32666     1\n",
       "4766      1\n",
       "24863     1\n",
       "24940     1\n",
       "9506      1\n",
       "9318      1\n",
       "4134      1\n",
       "553       1\n",
       "8402      1\n",
       "32613     1\n",
       "7015      1\n",
       "4788      1\n",
       "17638     1\n",
       "12322     1\n",
       "1659      1\n",
       "4837      1\n",
       "3267      1\n",
       "17222     1\n",
       "9370      1\n",
       "28753     1\n",
       "2514      1\n",
       "Name: r_asn, dtype: int64"
      ]
     },
     "execution_count": 5,
     "metadata": {},
     "output_type": "execute_result"
    }
   ],
   "source": [
    "ip_2 = df[df['l_ipn']==2]\n",
    "max_f_2 = ip_2[['date','f']].groupby(['date'],as_index=False).max()\n",
    "max_asn_2 = max_f_2.merge(ip_2[['date','r_asn','f']],how='inner',on=['date','f'])['r_asn'].value_counts()\n",
    "\n",
    "max_asn_2"
   ]
  },
  {
   "cell_type": "code",
   "execution_count": 6,
   "metadata": {
    "ExecuteTime": {
     "end_time": "2019-04-04T21:14:46.842412Z",
     "start_time": "2019-04-04T21:14:46.815612Z"
    }
   },
   "outputs": [
    {
     "data": {
      "text/plain": [
       "4134     28\n",
       "4837     12\n",
       "3269      4\n",
       "9800      4\n",
       "21844     3\n",
       "4538      3\n",
       "7497      3\n",
       "4808      3\n",
       "4812      2\n",
       "4766      2\n",
       "4713      2\n",
       "9916      2\n",
       "8359      1\n",
       "17964     1\n",
       "5410      1\n",
       "7725      1\n",
       "7455      1\n",
       "6395      1\n",
       "3356      1\n",
       "9394      1\n",
       "5786      1\n",
       "14744     1\n",
       "29075     1\n",
       "6802      1\n",
       "9316      1\n",
       "3215      1\n",
       "8972      1\n",
       "11530     1\n",
       "2697      1\n",
       "8         1\n",
       "8070      1\n",
       "16131     1\n",
       "6830      1\n",
       "35005     1\n",
       "852       1\n",
       "16339     1\n",
       "6517      1\n",
       "13749     1\n",
       "33650     1\n",
       "5617      1\n",
       "8560      1\n",
       "24940     1\n",
       "7018      1\n",
       "17897     1\n",
       "12392     1\n",
       "7015      1\n",
       "25956     1\n",
       "12252     1\n",
       "6461      1\n",
       "1239      1\n",
       "2259      1\n",
       "3790      1\n",
       "6079      1\n",
       "702       1\n",
       "7132      1\n",
       "26496     1\n",
       "Name: r_asn, dtype: int64"
      ]
     },
     "execution_count": 6,
     "metadata": {},
     "output_type": "execute_result"
    }
   ],
   "source": [
    "ip_3 = df[df['l_ipn']==3]\n",
    "max_f_3 = ip_3[['date','f']].groupby(['date'],as_index=False).max()\n",
    "max_asn_3 = max_f_3.merge(ip_3[['date','r_asn','f']],how='inner',on=['date','f'])['r_asn'].value_counts()\n",
    "\n",
    "max_asn_3"
   ]
  },
  {
   "cell_type": "code",
   "execution_count": 7,
   "metadata": {
    "ExecuteTime": {
     "end_time": "2019-04-04T21:14:46.866933Z",
     "start_time": "2019-04-04T21:14:46.845397Z"
    }
   },
   "outputs": [
    {
     "data": {
      "text/plain": [
       "31976    20\n",
       "33651    10\n",
       "7132      5\n",
       "29895     4\n",
       "4279      3\n",
       "13749     2\n",
       "9316      2\n",
       "33070     2\n",
       "3671      2\n",
       "1239      2\n",
       "5786      1\n",
       "1659      1\n",
       "2514      1\n",
       "4134      1\n",
       "9304      1\n",
       "4513      1\n",
       "22653     1\n",
       "4766      1\n",
       "24989     1\n",
       "28571     1\n",
       "32666     1\n",
       "8473      1\n",
       "7314      1\n",
       "12173     1\n",
       "2828      1\n",
       "2697      1\n",
       "17964     1\n",
       "15802     1\n",
       "559       1\n",
       "4837      1\n",
       "16246     1\n",
       "4725      1\n",
       "5617      1\n",
       "31983     1\n",
       "24940     1\n",
       "9318      1\n",
       "3209      1\n",
       "27696     1\n",
       "22855     1\n",
       "8402      1\n",
       "36420     1\n",
       "3267      1\n",
       "7996      1\n",
       "15227     1\n",
       "30983     1\n",
       "Name: r_asn, dtype: int64"
      ]
     },
     "execution_count": 7,
     "metadata": {},
     "output_type": "execute_result"
    }
   ],
   "source": [
    "ip_4 = df[df['l_ipn']==4]\n",
    "max_f_4 = ip_4[['date','f']].groupby(['date'],as_index=False).max()\n",
    "max_asn_4 = max_f_4.merge(ip_4[['date','r_asn','f']],how='inner',on=['date','f'])['r_asn'].value_counts()\n",
    "\n",
    "max_asn_4"
   ]
  },
  {
   "cell_type": "code",
   "execution_count": 8,
   "metadata": {
    "ExecuteTime": {
     "end_time": "2019-04-04T21:14:46.892470Z",
     "start_time": "2019-04-04T21:14:46.869431Z"
    }
   },
   "outputs": [
    {
     "data": {
      "text/plain": [
       "4134     15\n",
       "8070     11\n",
       "8075     10\n",
       "4837     10\n",
       "2152      6\n",
       "7497      2\n",
       "4538      2\n",
       "3269      2\n",
       "26101     2\n",
       "9800      2\n",
       "7018      2\n",
       "5078      2\n",
       "21844     1\n",
       "8         1\n",
       "33650     1\n",
       "14366     1\n",
       "20718     1\n",
       "9812      1\n",
       "17964     1\n",
       "7725      1\n",
       "11062     1\n",
       "4812      1\n",
       "12392     1\n",
       "35005     1\n",
       "6079      1\n",
       "7015      1\n",
       "7132      1\n",
       "12874     1\n",
       "19318     1\n",
       "Name: r_asn, dtype: int64"
      ]
     },
     "execution_count": 8,
     "metadata": {},
     "output_type": "execute_result"
    }
   ],
   "source": [
    "ip_5 = df[df['l_ipn']==5]\n",
    "max_f_5 = ip_5[['date','f']].groupby(['date'],as_index=False).max()\n",
    "max_asn_5 = max_f_5.merge(ip_5[['date','r_asn','f']],how='inner',on=['date','f'])['r_asn'].value_counts()\n",
    "\n",
    "max_asn_5"
   ]
  },
  {
   "cell_type": "code",
   "execution_count": 9,
   "metadata": {
    "ExecuteTime": {
     "end_time": "2019-04-04T21:14:46.926907Z",
     "start_time": "2019-04-04T21:14:46.897309Z"
    }
   },
   "outputs": [
    {
     "data": {
      "text/plain": [
       "4134     34\n",
       "4837     11\n",
       "29550     5\n",
       "9800      4\n",
       "7497      3\n",
       "4812      3\n",
       "5078      2\n",
       "4538      2\n",
       "17964     2\n",
       "15169     2\n",
       "3269      2\n",
       "4808      2\n",
       "18302     1\n",
       "7725      1\n",
       "29854     1\n",
       "2152      1\n",
       "5786      1\n",
       "14744     1\n",
       "6802      1\n",
       "2828      1\n",
       "8972      1\n",
       "8075      1\n",
       "8         1\n",
       "18566     1\n",
       "1668      1\n",
       "9394      1\n",
       "35005     1\n",
       "11062     1\n",
       "27364     1\n",
       "26228     1\n",
       "4713      1\n",
       "17897     1\n",
       "12392     1\n",
       "7015      1\n",
       "9318      1\n",
       "8820      1\n",
       "17464     1\n",
       "7132      1\n",
       "17883     1\n",
       "852       1\n",
       "9929      1\n",
       "36856     1\n",
       "9916      1\n",
       "26496     1\n",
       "Name: r_asn, dtype: int64"
      ]
     },
     "execution_count": 9,
     "metadata": {},
     "output_type": "execute_result"
    }
   ],
   "source": [
    "ip_6 = df[df['l_ipn']==6]\n",
    "max_f_6 = ip_6[['date','f']].groupby(['date'],as_index=False).max()\n",
    "max_asn_6 = max_f_6.merge(ip_6[['date','r_asn','f']],how='inner',on=['date','f'])['r_asn'].value_counts()\n",
    "\n",
    "max_asn_6"
   ]
  },
  {
   "cell_type": "code",
   "execution_count": 10,
   "metadata": {
    "ExecuteTime": {
     "end_time": "2019-04-04T21:14:46.955502Z",
     "start_time": "2019-04-04T21:14:46.930337Z"
    }
   },
   "outputs": [
    {
     "data": {
      "text/plain": [
       "21844    32\n",
       "18924    24\n",
       "15169    19\n",
       "6517      3\n",
       "14744     3\n",
       "19306     2\n",
       "2152      2\n",
       "14780     2\n",
       "11115     1\n",
       "3561      1\n",
       "14425     1\n",
       "16710     1\n",
       "3356      1\n",
       "Name: r_asn, dtype: int64"
      ]
     },
     "execution_count": 10,
     "metadata": {},
     "output_type": "execute_result"
    }
   ],
   "source": [
    "ip_7 = df[df['l_ipn']==7]\n",
    "max_f_7 = ip_7[['date','f']].groupby(['date'],as_index=False).max()\n",
    "max_asn_7 = max_f_7.merge(ip_7[['date','r_asn','f']],how='inner',on=['date','f'])['r_asn'].value_counts()\n",
    "\n",
    "max_asn_7"
   ]
  },
  {
   "cell_type": "code",
   "execution_count": 11,
   "metadata": {
    "ExecuteTime": {
     "end_time": "2019-04-04T21:14:46.988385Z",
     "start_time": "2019-04-04T21:14:46.957757Z"
    }
   },
   "outputs": [
    {
     "data": {
      "text/plain": [
       "15169    43\n",
       "109       4\n",
       "13749     3\n",
       "9318      3\n",
       "13768     2\n",
       "1659      2\n",
       "19916     2\n",
       "6517      2\n",
       "4755      1\n",
       "17557     1\n",
       "7314      1\n",
       "31898     1\n",
       "3269      1\n",
       "4766      1\n",
       "28576     1\n",
       "4771      1\n",
       "4134      1\n",
       "29863     1\n",
       "32613     1\n",
       "3215      1\n",
       "10429     1\n",
       "8070      1\n",
       "9371      1\n",
       "36351     1\n",
       "10439     1\n",
       "15076     1\n",
       "9848      1\n",
       "8689      1\n",
       "9583      1\n",
       "7018      1\n",
       "3816      1\n",
       "8708      1\n",
       "19169     1\n",
       "16206     1\n",
       "9308      1\n",
       "18267     1\n",
       "32632     1\n",
       "2900      1\n",
       "5662      1\n",
       "9808      1\n",
       "18229     1\n",
       "Name: r_asn, dtype: int64"
      ]
     },
     "execution_count": 11,
     "metadata": {},
     "output_type": "execute_result"
    }
   ],
   "source": [
    "ip_8 = df[df['l_ipn']==8]\n",
    "max_f_8 = ip_8[['date','f']].groupby(['date'],as_index=False).max()\n",
    "max_asn_8 = max_f_8.merge(ip_8[['date','r_asn','f']],how='inner',on=['date','f'])['r_asn'].value_counts()\n",
    "\n",
    "max_asn_8"
   ]
  },
  {
   "cell_type": "code",
   "execution_count": 12,
   "metadata": {
    "ExecuteTime": {
     "end_time": "2019-04-04T21:14:47.013572Z",
     "start_time": "2019-04-04T21:14:46.990040Z"
    },
    "scrolled": true
   },
   "outputs": [
    {
     "data": {
      "text/plain": [
       "15169    43\n",
       "109       4\n",
       "13749     3\n",
       "9318      3\n",
       "13768     2\n",
       "1659      2\n",
       "19916     2\n",
       "6517      2\n",
       "4755      1\n",
       "17557     1\n",
       "7314      1\n",
       "31898     1\n",
       "3269      1\n",
       "4766      1\n",
       "28576     1\n",
       "4771      1\n",
       "4134      1\n",
       "29863     1\n",
       "32613     1\n",
       "3215      1\n",
       "10429     1\n",
       "8070      1\n",
       "9371      1\n",
       "36351     1\n",
       "10439     1\n",
       "15076     1\n",
       "9848      1\n",
       "8689      1\n",
       "9583      1\n",
       "7018      1\n",
       "3816      1\n",
       "8708      1\n",
       "19169     1\n",
       "16206     1\n",
       "9308      1\n",
       "18267     1\n",
       "32632     1\n",
       "2900      1\n",
       "5662      1\n",
       "9808      1\n",
       "18229     1\n",
       "Name: r_asn, dtype: int64"
      ]
     },
     "execution_count": 12,
     "metadata": {},
     "output_type": "execute_result"
    }
   ],
   "source": [
    "ip_9 = df[df['l_ipn']==8]\n",
    "max_f_9 = ip_9[['date','f']].groupby(['date'],as_index=False).max()\n",
    "max_asn_9 = max_f_9.merge(ip_9[['date','r_asn','f']],how='inner',on=['date','f'])['r_asn'].value_counts()\n",
    "\n",
    "max_asn_9"
   ]
  },
  {
   "cell_type": "code",
   "execution_count": 18,
   "metadata": {
    "ExecuteTime": {
     "end_time": "2019-04-04T21:15:47.196903Z",
     "start_time": "2019-04-04T21:15:47.193654Z"
    }
   },
   "outputs": [],
   "source": [
    "max_asn_list = [max_asn_0,max_asn_1,max_asn_2,max_asn_3,max_asn_4,max_asn_5,max_asn_6,max_asn_7,max_asn_8,max_asn_9]"
   ]
  },
  {
   "cell_type": "code",
   "execution_count": 22,
   "metadata": {
    "ExecuteTime": {
     "end_time": "2019-04-04T21:16:36.469739Z",
     "start_time": "2019-04-04T21:16:36.464344Z"
    }
   },
   "outputs": [
    {
     "data": {
      "text/plain": [
       "'13462'"
      ]
     },
     "execution_count": 22,
     "metadata": {},
     "output_type": "execute_result"
    }
   ],
   "source": [
    "str(max_asn_list[0].index[0])"
   ]
  },
  {
   "cell_type": "code",
   "execution_count": null,
   "metadata": {},
   "outputs": [],
   "source": [
    "plt.figure(figsize=(10,10))\n",
    "width = 0.75\n",
    "x= [0,1,2,3,4,5,6,7,8,9]\n",
    "height = [x.iloc[0] for x in max_asn_list]\n",
    "labels = [str(x.index[0]) for x in max_asn_list]\n",
    "color_labels= ['red' if x in [1,3,4,5,6] else 'black' for x in range(0,10)]\n",
    "plt.bar(x=x, height=height,width=width,tick_label=x,color=['black', 'red', 'black', 'red', 'red','red','red','black','black','black'])\n",
    "for i in range(0,10):\n",
    "    plt.text(x[i]-width*0.5,height[i]+0.5,labels[i],size=15)\n",
    "plt.ylabel(\"Number of days with max connections\")\n"
   ]
  },
  {
   "cell_type": "code",
   "execution_count": 14,
   "metadata": {
    "ExecuteTime": {
     "end_time": "2019-04-04T21:14:47.423830Z",
     "start_time": "2019-04-04T21:14:47.022655Z"
    }
   },
   "outputs": [
    {
     "data": {
      "text/plain": [
       "Text(0, 0.5, 'Number of days with max connections')"
      ]
     },
     "execution_count": 14,
     "metadata": {},
     "output_type": "execute_result"
    },
    {
     "data": {
      "image/png": "[encoded data removed]",
      "text/plain": [
       "<Figure size 720x720 with 1 Axes>"
      ]
     },
     "metadata": {
      "needs_background": "light"
     },
     "output_type": "display_data"
    }
   ],
   "source": [
    "plt.figure(figsize=(10,10))\n",
    "width = 0.75\n",
    "x= [0,1,2,3,4,5,6,7,8,9]\n",
    "height = [15,47,17,28,20,15,34,32,43,43]\n",
    "labels = ['13462','3265','19918','4134','31976','4134','4134','21844','15169','15169']\n",
    "plt.bar(x=x, height=height,width=width,tick_label=x,color=['black', 'red', 'black', 'red', 'red','red','red','black','black','black'])\n",
    "for i in range(0,10):\n",
    "    plt.text(x[i]-width*0.5,height[i]+0.5,labels[i],size=15)\n",
    "plt.ylabel(\"Number of days with max connections\")\n"
   ]
  },
  {
   "cell_type": "code",
   "execution_count": null,
   "metadata": {},
   "outputs": [],
   "source": []
  }
 ],
 "metadata": {
  "kernelspec": {
   "display_name": "Python 3",
   "language": "python",
   "name": "python3"
  },
  "language_info": {
   "codemirror_mode": {
    "name": "ipython",
    "version": 3
   },
   "file_extension": ".py",
   "mimetype": "text/x-python",
   "name": "python",
   "nbconvert_exporter": "python",
   "pygments_lexer": "ipython3",
   "version": "3.7.2"
  }
 },
 "nbformat": 4,
 "nbformat_minor": 2
}
